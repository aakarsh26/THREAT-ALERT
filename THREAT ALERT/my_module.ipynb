{
 "cells": [
  {
   "cell_type": "code",
   "execution_count": 4,
   "id": "ff32eefb",
   "metadata": {},
   "outputs": [],
   "source": [
    "from pydantic import BaseModel\n",
    "class Newsreport(BaseModel):\n",
    "    id2:int\n",
    "    keyword:str\n",
    "    location:str\n",
    "    text:str \n",
    "    target:float\n",
    "    word_count:int\n",
    "    unique_word_count:int\n",
    "    stop_word_count:int \n",
    "    url_count:int\n",
    "    mean_word_length:float\n",
    "    char_count:int \n",
    "    Subjectivity:float\n",
    "    Polarity:float\n",
    "    Analysis:str\n",
    "    Target:int"
   ]
  },
  {
   "cell_type": "code",
   "execution_count": null,
   "id": "dc857890",
   "metadata": {},
   "outputs": [],
   "source": []
  }
 ],
 "metadata": {
  "kernelspec": {
   "display_name": "Python 3",
   "language": "python",
   "name": "python3"
  },
  "language_info": {
   "codemirror_mode": {
    "name": "ipython",
    "version": 3
   },
   "file_extension": ".py",
   "mimetype": "text/x-python",
   "name": "python",
   "nbconvert_exporter": "python",
   "pygments_lexer": "ipython3",
   "version": "3.8.8"
  }
 },
 "nbformat": 4,
 "nbformat_minor": 5
}
